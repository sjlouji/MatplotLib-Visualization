{
 "cells": [
  {
   "cell_type": "code",
   "execution_count": 3,
   "metadata": {},
   "outputs": [],
   "source": [
    "import matplotlib.pyplot as plt\n",
    "import pandas as pd\n",
    "%matplotlib inline"
   ]
  },
  {
   "cell_type": "code",
   "execution_count": 21,
   "metadata": {},
   "outputs": [],
   "source": [
    "fs = pd.read_csv('data.csv')"
   ]
  },
  {
   "cell_type": "code",
   "execution_count": 24,
   "metadata": {},
   "outputs": [
    {
     "name": "stdout",
     "output_type": "stream",
     "text": [
      "    Age  All_Devs  Python  JavaScript\n",
      "0    18     17784   20046       16446\n",
      "1    19     16500   17100       16791\n",
      "2    20     18012   20000       18942\n",
      "3    21     20628   24744       21780\n",
      "4    22     25206   30500       25704\n",
      "5    23     30252   37732       29000\n",
      "6    24     34368   41247       34372\n",
      "7    25     38496   45372       37810\n",
      "8    26     42000   48876       43515\n",
      "9    27     46752   53850       46823\n",
      "10   28     49320   57287       49293\n",
      "11   29     53200   45000       53437\n",
      "12   30     56000   50000       56373\n",
      "13   31     62316   55000       62375\n",
      "14   32     64928   70000       66674\n",
      "15   33     67317   71496       68745\n",
      "16   34     68748   75370       68746\n",
      "17   35     73752   83640       74583\n",
      "18   36     77232   84666       79000\n",
      "19   37     78000   84392       78508\n",
      "20   38     78508   78254       79996\n",
      "21   39     79536   85000       80403\n",
      "22   40     82488   87038       83820\n",
      "23   41     88935   91991       88833\n",
      "24   42     90000  100000       91660\n",
      "25   43     90056   94796       87892\n",
      "26   44     95000   97962       96243\n",
      "27   45     90000   93302       90000\n",
      "28   46     91633   99240       99313\n",
      "29   47     91660  102736       91660\n",
      "30   48     98150  112285      102264\n",
      "31   49     98964  100771      100000\n",
      "32   50    100000  104708      100000\n",
      "33   51     98988  108423       91660\n",
      "34   52    100000  101407       99240\n",
      "35   53    108923  112542      108000\n",
      "36   54    105000  122870      105000\n",
      "37   55    103117  120000      104000\n"
     ]
    }
   ],
   "source": [
    "age = fs['Age']\n",
    "dev_sal = fs['All_Devs']\n",
    "python_sal = fs['Python']\n",
    "javascript_sal = fs['JavaScript']\n",
    "print(fs)"
   ]
  },
  {
   "cell_type": "code",
   "execution_count": null,
   "metadata": {},
   "outputs": [],
   "source": []
  }
 ],
 "metadata": {
  "kernelspec": {
   "display_name": "Python 3",
   "language": "python",
   "name": "python3"
  },
  "language_info": {
   "codemirror_mode": {
    "name": "ipython",
    "version": 3
   },
   "file_extension": ".py",
   "mimetype": "text/x-python",
   "name": "python",
   "nbconvert_exporter": "python",
   "pygments_lexer": "ipython3",
   "version": "3.8.3"
  }
 },
 "nbformat": 4,
 "nbformat_minor": 4
}
